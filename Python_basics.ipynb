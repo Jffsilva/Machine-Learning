{
  "nbformat": 4,
  "nbformat_minor": 0,
  "metadata": {
    "colab": {
      "provenance": [],
      "authorship_tag": "ABX9TyOQtt1mFM9D4AuROw+XtxGE"
    },
    "kernelspec": {
      "name": "python3",
      "display_name": "Python 3"
    },
    "language_info": {
      "name": "python"
    }
  },
  "cells": [
    {
      "cell_type": "markdown",
      "source": [
        "#Print function"
      ],
      "metadata": {
        "id": "KTBjC9_Fo389"
      }
    },
    {
      "cell_type": "code",
      "execution_count": null,
      "metadata": {
        "colab": {
          "base_uri": "https://localhost:8080/"
        },
        "id": "Xtp6MgjXoNXM",
        "outputId": "e88e59a3-545e-47f1-9793-d110fda5ee97"
      },
      "outputs": [
        {
          "output_type": "stream",
          "name": "stdout",
          "text": [
            "Machine Learning\n"
          ]
        }
      ],
      "source": [
        "print(\"Machine Learning\")"
      ]
    },
    {
      "cell_type": "code",
      "source": [
        "print(\"Machine Learning\" + \" Projects\")"
      ],
      "metadata": {
        "colab": {
          "base_uri": "https://localhost:8080/"
        },
        "id": "HQ7LCsNhonM1",
        "outputId": "97306476-3da7-4fdf-93a1-916dd2f61bdf"
      },
      "execution_count": null,
      "outputs": [
        {
          "output_type": "stream",
          "name": "stdout",
          "text": [
            "Machine Learning Projects\n"
          ]
        }
      ]
    },
    {
      "cell_type": "code",
      "source": [
        "print(8)"
      ],
      "metadata": {
        "colab": {
          "base_uri": "https://localhost:8080/"
        },
        "id": "fTdm9xM-orDj",
        "outputId": "8b35e61a-27f6-431f-cff2-01379daa1b7d"
      },
      "execution_count": null,
      "outputs": [
        {
          "output_type": "stream",
          "name": "stdout",
          "text": [
            "8\n"
          ]
        }
      ]
    },
    {
      "cell_type": "code",
      "source": [
        "print(8+3)"
      ],
      "metadata": {
        "colab": {
          "base_uri": "https://localhost:8080/"
        },
        "id": "InMaTBbmowsT",
        "outputId": "f91d43fb-8a68-4ffe-9287-55f6c32e3c99"
      },
      "execution_count": null,
      "outputs": [
        {
          "output_type": "stream",
          "name": "stdout",
          "text": [
            "11\n"
          ]
        }
      ]
    },
    {
      "cell_type": "markdown",
      "source": [
        "#Basic data types\n",
        "\n",
        "\n",
        "\n",
        "\n",
        "\n",
        "\n",
        "\n"
      ],
      "metadata": {
        "id": "6UyjLuAYpL3T"
      }
    },
    {
      "cell_type": "markdown",
      "source": [
        "1.   Integer\n",
        "2.   Floating point\n",
        "3.   Complex\n",
        "4.   Boolean\n",
        "5.   String"
      ],
      "metadata": {
        "id": "_nQpaSNC3ytm"
      }
    },
    {
      "cell_type": "markdown",
      "source": [
        "Integer"
      ],
      "metadata": {
        "id": "X2uoFUp4wtRj"
      }
    },
    {
      "cell_type": "code",
      "source": [
        "a = 8\n",
        "print(a)\n",
        "type(a)"
      ],
      "metadata": {
        "colab": {
          "base_uri": "https://localhost:8080/"
        },
        "id": "Fs_ZH3IEpPjU",
        "outputId": "c9297f35-d29c-4cb0-9bf8-342856455b1d"
      },
      "execution_count": 65,
      "outputs": [
        {
          "output_type": "stream",
          "name": "stdout",
          "text": [
            "8\n"
          ]
        },
        {
          "output_type": "execute_result",
          "data": {
            "text/plain": [
              "int"
            ]
          },
          "metadata": {},
          "execution_count": 65
        }
      ]
    },
    {
      "cell_type": "markdown",
      "source": [
        "Floating point"
      ],
      "metadata": {
        "id": "OZ73B9nzwvJQ"
      }
    },
    {
      "cell_type": "code",
      "source": [
        "b = 2.3\n",
        "print(b)\n",
        "type(b)"
      ],
      "metadata": {
        "colab": {
          "base_uri": "https://localhost:8080/"
        },
        "id": "The6_zeHpjF9",
        "outputId": "819ec7f8-e57a-4e02-aeb4-9b649ca2b63a"
      },
      "execution_count": 66,
      "outputs": [
        {
          "output_type": "stream",
          "name": "stdout",
          "text": [
            "2.3\n"
          ]
        },
        {
          "output_type": "execute_result",
          "data": {
            "text/plain": [
              "float"
            ]
          },
          "metadata": {},
          "execution_count": 66
        }
      ]
    },
    {
      "cell_type": "markdown",
      "source": [
        "Complex"
      ],
      "metadata": {
        "id": "376VQ2oRwxBQ"
      }
    },
    {
      "cell_type": "code",
      "source": [
        "c = 1+3j\n",
        "print(c)\n",
        "type(c)"
      ],
      "metadata": {
        "colab": {
          "base_uri": "https://localhost:8080/"
        },
        "id": "k3BLsHN8t_YT",
        "outputId": "4824199d-816b-45ea-fcd3-7674ae687474"
      },
      "execution_count": 67,
      "outputs": [
        {
          "output_type": "stream",
          "name": "stdout",
          "text": [
            "(1+3j)\n"
          ]
        },
        {
          "output_type": "execute_result",
          "data": {
            "text/plain": [
              "complex"
            ]
          },
          "metadata": {},
          "execution_count": 67
        }
      ]
    },
    {
      "cell_type": "markdown",
      "source": [
        "Conversion from integer to floating point"
      ],
      "metadata": {
        "id": "whszFLEDwzSg"
      }
    },
    {
      "cell_type": "code",
      "source": [
        "x = 10\n",
        "print(x)\n",
        "type(x)"
      ],
      "metadata": {
        "colab": {
          "base_uri": "https://localhost:8080/"
        },
        "id": "4QkLyMB0uVVx",
        "outputId": "1367eed7-755d-4a9e-fb1e-29c4c418edb8"
      },
      "execution_count": 68,
      "outputs": [
        {
          "output_type": "stream",
          "name": "stdout",
          "text": [
            "10\n"
          ]
        },
        {
          "output_type": "execute_result",
          "data": {
            "text/plain": [
              "int"
            ]
          },
          "metadata": {},
          "execution_count": 68
        }
      ]
    },
    {
      "cell_type": "code",
      "source": [
        "y = float(x)\n",
        "print(y)\n",
        "type(y)"
      ],
      "metadata": {
        "colab": {
          "base_uri": "https://localhost:8080/"
        },
        "id": "Qjn8aZLsutOj",
        "outputId": "c9073407-ee9f-4163-9b32-fa722ab7ab0e"
      },
      "execution_count": 69,
      "outputs": [
        {
          "output_type": "stream",
          "name": "stdout",
          "text": [
            "10.0\n"
          ]
        },
        {
          "output_type": "execute_result",
          "data": {
            "text/plain": [
              "float"
            ]
          },
          "metadata": {},
          "execution_count": 69
        }
      ]
    },
    {
      "cell_type": "markdown",
      "source": [
        "Conversion from floating point to integer"
      ],
      "metadata": {
        "id": "_wYSCd9Zw3ZJ"
      }
    },
    {
      "cell_type": "code",
      "source": [
        "x = 5.88\n",
        "print(x)\n",
        "type(x)"
      ],
      "metadata": {
        "colab": {
          "base_uri": "https://localhost:8080/"
        },
        "id": "_2_BigtUuxLy",
        "outputId": "f588f287-8e02-4dab-8d35-f812a0be9203"
      },
      "execution_count": 70,
      "outputs": [
        {
          "output_type": "stream",
          "name": "stdout",
          "text": [
            "5.88\n"
          ]
        },
        {
          "output_type": "execute_result",
          "data": {
            "text/plain": [
              "float"
            ]
          },
          "metadata": {},
          "execution_count": 70
        }
      ]
    },
    {
      "cell_type": "code",
      "source": [
        "y = int(x)\n",
        "print(y)\n",
        "type(y)"
      ],
      "metadata": {
        "colab": {
          "base_uri": "https://localhost:8080/"
        },
        "id": "655I0MEEuxgD",
        "outputId": "71907498-3236-4c79-eb75-e4daa424731e"
      },
      "execution_count": 71,
      "outputs": [
        {
          "output_type": "stream",
          "name": "stdout",
          "text": [
            "5\n"
          ]
        },
        {
          "output_type": "execute_result",
          "data": {
            "text/plain": [
              "int"
            ]
          },
          "metadata": {},
          "execution_count": 71
        }
      ]
    },
    {
      "cell_type": "markdown",
      "source": [
        "Boolean\n",
        "\n",
        "\n",
        "1.   True\n",
        "2.   False\n",
        "\n"
      ],
      "metadata": {
        "id": "Od8LXwK3vNr7"
      }
    },
    {
      "cell_type": "code",
      "source": [
        "a = True\n",
        "print(a)\n",
        "type(a)"
      ],
      "metadata": {
        "colab": {
          "base_uri": "https://localhost:8080/"
        },
        "id": "vFh3dbX9vSO_",
        "outputId": "7e01bc3b-3b5e-4a03-fac7-7fd7672004d2"
      },
      "execution_count": 72,
      "outputs": [
        {
          "output_type": "stream",
          "name": "stdout",
          "text": [
            "True\n"
          ]
        },
        {
          "output_type": "execute_result",
          "data": {
            "text/plain": [
              "bool"
            ]
          },
          "metadata": {},
          "execution_count": 72
        }
      ]
    },
    {
      "cell_type": "code",
      "source": [
        "b = False\n",
        "print(b)\n",
        "type(b)"
      ],
      "metadata": {
        "colab": {
          "base_uri": "https://localhost:8080/"
        },
        "id": "ERTz4ia8vSH2",
        "outputId": "debac9f0-62ed-48e6-b261-81cb15ef8951"
      },
      "execution_count": 73,
      "outputs": [
        {
          "output_type": "stream",
          "name": "stdout",
          "text": [
            "False\n"
          ]
        },
        {
          "output_type": "execute_result",
          "data": {
            "text/plain": [
              "bool"
            ]
          },
          "metadata": {},
          "execution_count": 73
        }
      ]
    },
    {
      "cell_type": "code",
      "source": [
        "a = 7 < 3\n",
        "print(a)\n",
        "type(a)"
      ],
      "metadata": {
        "colab": {
          "base_uri": "https://localhost:8080/"
        },
        "id": "92pI-3MEvfcY",
        "outputId": "42e842d4-1c11-4fa0-ba59-0d4cf0e113a6"
      },
      "execution_count": 74,
      "outputs": [
        {
          "output_type": "stream",
          "name": "stdout",
          "text": [
            "False\n"
          ]
        },
        {
          "output_type": "execute_result",
          "data": {
            "text/plain": [
              "bool"
            ]
          },
          "metadata": {},
          "execution_count": 74
        }
      ]
    },
    {
      "cell_type": "code",
      "source": [
        "a = 7 > 3\n",
        "print(a)\n",
        "type(a)"
      ],
      "metadata": {
        "colab": {
          "base_uri": "https://localhost:8080/"
        },
        "id": "9BNrSCfDvfYh",
        "outputId": "de320c10-4328-4726-af3c-40580a38cff0"
      },
      "execution_count": 75,
      "outputs": [
        {
          "output_type": "stream",
          "name": "stdout",
          "text": [
            "True\n"
          ]
        },
        {
          "output_type": "execute_result",
          "data": {
            "text/plain": [
              "bool"
            ]
          },
          "metadata": {},
          "execution_count": 75
        }
      ]
    },
    {
      "cell_type": "markdown",
      "source": [
        "String"
      ],
      "metadata": {
        "id": "u2XwikBRw83v"
      }
    },
    {
      "cell_type": "code",
      "source": [
        "my_string = \"Machine Learning\"\n",
        "print(my_string)\n",
        "type(my_string)"
      ],
      "metadata": {
        "colab": {
          "base_uri": "https://localhost:8080/"
        },
        "id": "-wxUnoOPpk2j",
        "outputId": "dd54442f-28a9-448c-97ce-83ba0e39e8ea"
      },
      "execution_count": 76,
      "outputs": [
        {
          "output_type": "stream",
          "name": "stdout",
          "text": [
            "Machine Learning\n"
          ]
        },
        {
          "output_type": "execute_result",
          "data": {
            "text/plain": [
              "str"
            ]
          },
          "metadata": {},
          "execution_count": 76
        }
      ]
    },
    {
      "cell_type": "code",
      "source": [
        "print(\"Hello\"*5)"
      ],
      "metadata": {
        "colab": {
          "base_uri": "https://localhost:8080/"
        },
        "id": "g6Shlbv1weUq",
        "outputId": "cafc0b18-0cfd-4041-aed1-2136329e79e4"
      },
      "execution_count": 77,
      "outputs": [
        {
          "output_type": "stream",
          "name": "stdout",
          "text": [
            "HelloHelloHelloHelloHello\n"
          ]
        }
      ]
    },
    {
      "cell_type": "markdown",
      "source": [
        "Slicing"
      ],
      "metadata": {
        "id": "x-PtFn5uxDIx"
      }
    },
    {
      "cell_type": "code",
      "source": [
        "my_string = \"Programming\""
      ],
      "metadata": {
        "id": "yvDXmsYsxFMs"
      },
      "execution_count": 78,
      "outputs": []
    },
    {
      "cell_type": "code",
      "source": [
        "print(my_string[1:5])"
      ],
      "metadata": {
        "colab": {
          "base_uri": "https://localhost:8080/"
        },
        "id": "F9gKIHxhxLfB",
        "outputId": "0eca5515-2618-4b58-e69b-5bec55e63b91"
      },
      "execution_count": 79,
      "outputs": [
        {
          "output_type": "stream",
          "name": "stdout",
          "text": [
            "rogr\n"
          ]
        }
      ]
    },
    {
      "cell_type": "code",
      "source": [
        "print(my_string[0:10:2])"
      ],
      "metadata": {
        "colab": {
          "base_uri": "https://localhost:8080/"
        },
        "id": "G12TmETqxLcZ",
        "outputId": "886aa205-180e-429c-95ce-bc7527c6bd15"
      },
      "execution_count": 80,
      "outputs": [
        {
          "output_type": "stream",
          "name": "stdout",
          "text": [
            "Pormi\n"
          ]
        }
      ]
    },
    {
      "cell_type": "markdown",
      "source": [
        "String concatenation"
      ],
      "metadata": {
        "id": "DhqKHW0Ix_s6"
      }
    },
    {
      "cell_type": "code",
      "source": [
        "word_1 = \"Machine \"\n",
        "word_2 = \"Learning\"\n",
        "print(word_1 + word_2)"
      ],
      "metadata": {
        "colab": {
          "base_uri": "https://localhost:8080/"
        },
        "id": "Uz0pQxMexLZs",
        "outputId": "319c630e-d6ee-4977-b9d5-9e8482f3a1ae"
      },
      "execution_count": 81,
      "outputs": [
        {
          "output_type": "stream",
          "name": "stdout",
          "text": [
            "Machine Learning\n"
          ]
        }
      ]
    },
    {
      "cell_type": "markdown",
      "source": [
        "#Constants and variables"
      ],
      "metadata": {
        "id": "EUOc3Eiopxbo"
      }
    },
    {
      "cell_type": "code",
      "source": [
        "superhero = \"Iron Man\"\n",
        "print(superhero)"
      ],
      "metadata": {
        "colab": {
          "base_uri": "https://localhost:8080/"
        },
        "id": "W9De2FAgp0qr",
        "outputId": "aaa6bb32-1320-41a6-e4eb-93ad459a9508"
      },
      "execution_count": null,
      "outputs": [
        {
          "output_type": "stream",
          "name": "stdout",
          "text": [
            "Iron Man\n"
          ]
        }
      ]
    },
    {
      "cell_type": "code",
      "source": [
        "superhero = \"Captain America\"\n",
        "print(superhero)"
      ],
      "metadata": {
        "colab": {
          "base_uri": "https://localhost:8080/"
        },
        "id": "s2pCFvO0qDYE",
        "outputId": "aa9de3e5-7160-48bb-85af-e0c9ec55e35b"
      },
      "execution_count": null,
      "outputs": [
        {
          "output_type": "stream",
          "name": "stdout",
          "text": [
            "Captain America\n"
          ]
        }
      ]
    },
    {
      "cell_type": "code",
      "source": [
        "hero1, hero2, hero3 = \"Iron Man\", \"Captain America\", \"Thor\"\n",
        "print(hero1)\n",
        "print(hero2)\n",
        "print(hero3)"
      ],
      "metadata": {
        "colab": {
          "base_uri": "https://localhost:8080/"
        },
        "id": "wpR1TXTSqkO0",
        "outputId": "7eb41171-264e-4487-dab8-de0a4d0fcc22"
      },
      "execution_count": null,
      "outputs": [
        {
          "output_type": "stream",
          "name": "stdout",
          "text": [
            "Iron Man\n",
            "Captain America\n",
            "Thor\n"
          ]
        }
      ]
    },
    {
      "cell_type": "code",
      "source": [
        "x = y = z = 23\n",
        "print(x)\n",
        "print(y)\n",
        "print(z)"
      ],
      "metadata": {
        "colab": {
          "base_uri": "https://localhost:8080/"
        },
        "id": "q3CRC0DJqztD",
        "outputId": "6379d602-91eb-4b26-859c-ceeadf15a312"
      },
      "execution_count": null,
      "outputs": [
        {
          "output_type": "stream",
          "name": "stdout",
          "text": [
            "23\n",
            "23\n",
            "23\n"
          ]
        }
      ]
    },
    {
      "cell_type": "markdown",
      "source": [
        "#Input function"
      ],
      "metadata": {
        "id": "YwyN33HSrh3I"
      }
    },
    {
      "cell_type": "code",
      "source": [
        "number_1 = input(\"Enter the first number: \")\n",
        "number_2 = input(\"Enter the second number: \")\n",
        "\n",
        "sum = number_1 + number_2\n",
        "print(sum)"
      ],
      "metadata": {
        "colab": {
          "base_uri": "https://localhost:8080/"
        },
        "id": "HYt4Hqwz7HyI",
        "outputId": "038fe3bc-1520-4d09-cc54-6c6808d102b8"
      },
      "execution_count": 92,
      "outputs": [
        {
          "output_type": "stream",
          "name": "stdout",
          "text": [
            "Enter the first number: 23\n",
            "Enter the second number: 23\n",
            "2323\n"
          ]
        }
      ]
    },
    {
      "cell_type": "code",
      "source": [
        "number_1 = int(input(\"Enter the first number: \"))\n",
        "number_2 = int(input(\"Enter the second number: \"))\n",
        "\n",
        "sum = number_1 + number_2\n",
        "print(sum)"
      ],
      "metadata": {
        "colab": {
          "base_uri": "https://localhost:8080/"
        },
        "id": "1ast3hmarjVb",
        "outputId": "12d1b145-eee5-455a-c4c1-9992c0164915"
      },
      "execution_count": 93,
      "outputs": [
        {
          "output_type": "stream",
          "name": "stdout",
          "text": [
            "Enter the first number: 23\n",
            "Enter the second number: 23\n",
            "46\n"
          ]
        }
      ]
    },
    {
      "cell_type": "code",
      "source": [
        "num = 5\n",
        "print(float(num))"
      ],
      "metadata": {
        "colab": {
          "base_uri": "https://localhost:8080/"
        },
        "id": "_8p4xyLfry9b",
        "outputId": "07c8de6d-7abb-4a50-cf91-1276d9e8029f"
      },
      "execution_count": 94,
      "outputs": [
        {
          "output_type": "stream",
          "name": "stdout",
          "text": [
            "5.0\n"
          ]
        }
      ]
    },
    {
      "cell_type": "markdown",
      "source": [
        "#Lists, tuples, sets and dictionaries"
      ],
      "metadata": {
        "id": "3HDCgBQkYie6"
      }
    },
    {
      "cell_type": "markdown",
      "source": [
        "Types of objects in Python:\n",
        "\n",
        "1.   Immutable objects\n",
        "2.   Mutable objects\n",
        "\n"
      ],
      "metadata": {
        "id": "3imRWQDzYyWc"
      }
    },
    {
      "cell_type": "markdown",
      "source": [
        "Immutable objects:\n",
        "\n",
        "1.   Integer\n",
        "2.   Floating point\n",
        "3.   String\n",
        "4.   Boolean\n",
        "5.   Tuple\n",
        "\n"
      ],
      "metadata": {
        "id": "uKWjgPJNY74I"
      }
    },
    {
      "cell_type": "markdown",
      "source": [
        "Mutable objects:\n",
        "\n",
        "1.   List\n",
        "2.   Set\n",
        "3.   Dictionary\n",
        "\n"
      ],
      "metadata": {
        "id": "Sj690ABjY7ug"
      }
    },
    {
      "cell_type": "markdown",
      "source": [
        "Lists"
      ],
      "metadata": {
        "id": "9qRltX-yZYa2"
      }
    },
    {
      "cell_type": "code",
      "source": [
        "my_list = [1,2,3,4,5]\n",
        "print(my_list)\n",
        "type(my_list)"
      ],
      "metadata": {
        "colab": {
          "base_uri": "https://localhost:8080/"
        },
        "id": "DH2s8L-UZZOe",
        "outputId": "2600fe66-4fae-4396-f0e6-12b97ec6a9ab"
      },
      "execution_count": 2,
      "outputs": [
        {
          "output_type": "stream",
          "name": "stdout",
          "text": [
            "[1, 2, 3, 4, 5]\n"
          ]
        },
        {
          "output_type": "execute_result",
          "data": {
            "text/plain": [
              "list"
            ]
          },
          "metadata": {},
          "execution_count": 2
        }
      ]
    },
    {
      "cell_type": "code",
      "source": [
        "my_list = [2,3,1.8,'English',True]\n",
        "print(my_list)\n",
        "type(my_list)"
      ],
      "metadata": {
        "colab": {
          "base_uri": "https://localhost:8080/"
        },
        "id": "bevPVMtSZp3f",
        "outputId": "f5c96343-70d2-47a1-c89d-2e4c2a1b6426"
      },
      "execution_count": 5,
      "outputs": [
        {
          "output_type": "stream",
          "name": "stdout",
          "text": [
            "[2, 3, 1.8, 'English', True]\n"
          ]
        },
        {
          "output_type": "execute_result",
          "data": {
            "text/plain": [
              "list"
            ]
          },
          "metadata": {},
          "execution_count": 5
        }
      ]
    },
    {
      "cell_type": "markdown",
      "source": [
        "A list is mutable ----> Changeable"
      ],
      "metadata": {
        "id": "F0GX2cbcaP7w"
      }
    },
    {
      "cell_type": "code",
      "source": [
        "# list allows multiple data types\n",
        "my_list = [2,3,1.8,'English',True]\n",
        "my_list.append(6)\n",
        "print(my_list)"
      ],
      "metadata": {
        "colab": {
          "base_uri": "https://localhost:8080/"
        },
        "id": "vyjj5Y45aIz_",
        "outputId": "cc75298c-0f59-4e09-ad44-813d9551d1fd"
      },
      "execution_count": 18,
      "outputs": [
        {
          "output_type": "stream",
          "name": "stdout",
          "text": [
            "[2, 3, 1.8, 'English', True, 6]\n"
          ]
        }
      ]
    },
    {
      "cell_type": "code",
      "source": [
        "print(my_list[0])\n",
        "print(my_list[2])"
      ],
      "metadata": {
        "colab": {
          "base_uri": "https://localhost:8080/"
        },
        "id": "4Hme9j13af33",
        "outputId": "b98f24d3-0a90-421b-aa7c-22115fc8305e"
      },
      "execution_count": 8,
      "outputs": [
        {
          "output_type": "stream",
          "name": "stdout",
          "text": [
            "2\n",
            "1.8\n"
          ]
        }
      ]
    },
    {
      "cell_type": "code",
      "source": [
        "# lists allows duplicate values\n",
        "list_1 = [1,2,3,4,5,1,2,3,4,5]\n",
        "print(list_1)"
      ],
      "metadata": {
        "colab": {
          "base_uri": "https://localhost:8080/"
        },
        "id": "uj9_ozR8aqFH",
        "outputId": "9f700380-d02f-44f2-b46b-a7d432e35c8e"
      },
      "execution_count": 10,
      "outputs": [
        {
          "output_type": "stream",
          "name": "stdout",
          "text": [
            "[1, 2, 3, 4, 5, 1, 2, 3, 4, 5]\n"
          ]
        }
      ]
    },
    {
      "cell_type": "code",
      "source": [
        "print(len(list_1))"
      ],
      "metadata": {
        "colab": {
          "base_uri": "https://localhost:8080/"
        },
        "id": "fnSrEAFSa3iW",
        "outputId": "89e86d2f-c96e-4306-af00-272cce028c89"
      },
      "execution_count": 11,
      "outputs": [
        {
          "output_type": "stream",
          "name": "stdout",
          "text": [
            "10\n"
          ]
        }
      ]
    },
    {
      "cell_type": "code",
      "source": [
        "list_2 = []\n",
        "print(list_2)"
      ],
      "metadata": {
        "colab": {
          "base_uri": "https://localhost:8080/"
        },
        "id": "--UoUQrjbER2",
        "outputId": "a027e8d2-d4df-4d96-e855-e9a657a62b05"
      },
      "execution_count": 12,
      "outputs": [
        {
          "output_type": "stream",
          "name": "stdout",
          "text": [
            "[]\n"
          ]
        }
      ]
    },
    {
      "cell_type": "code",
      "source": [
        "list_2.append(5)\n",
        "print(list_2)"
      ],
      "metadata": {
        "colab": {
          "base_uri": "https://localhost:8080/"
        },
        "id": "MnvHsx57bOoe",
        "outputId": "c349943a-296a-46c8-d6c9-bbbe94b8d6f1"
      },
      "execution_count": 13,
      "outputs": [
        {
          "output_type": "stream",
          "name": "stdout",
          "text": [
            "[5]\n"
          ]
        }
      ]
    },
    {
      "cell_type": "code",
      "source": [
        "# delete an item in a list\n",
        "list_2 = [2,3,1.8,'English',True, 6]\n",
        "print(list_2)\n",
        "del list_2[2]\n",
        "print(list_2)"
      ],
      "metadata": {
        "colab": {
          "base_uri": "https://localhost:8080/"
        },
        "id": "TMkQk45xbV2_",
        "outputId": "e384ffe7-78e4-4637-d7f1-3cc2939b6c5f"
      },
      "execution_count": 15,
      "outputs": [
        {
          "output_type": "stream",
          "name": "stdout",
          "text": [
            "[2, 3, 1.8, 'English', True, 6]\n",
            "[2, 3, 'English', True, 6]\n"
          ]
        }
      ]
    },
    {
      "cell_type": "code",
      "source": [
        "# join two lists\n",
        "list_3 = [1,2,3,4,5]\n",
        "list_4 = [6,7,8,9,10]\n",
        "list_5 = list_3 + list_4\n",
        "print(list_5)"
      ],
      "metadata": {
        "colab": {
          "base_uri": "https://localhost:8080/"
        },
        "id": "2iuK05BEboBv",
        "outputId": "a5f78e7d-e0b6-47ef-9daa-07e5e3e6c511"
      },
      "execution_count": 16,
      "outputs": [
        {
          "output_type": "stream",
          "name": "stdout",
          "text": [
            "[1, 2, 3, 4, 5, 6, 7, 8, 9, 10]\n"
          ]
        }
      ]
    },
    {
      "cell_type": "markdown",
      "source": [
        "Tuple"
      ],
      "metadata": {
        "id": "Fa0dgMSJcHgM"
      }
    },
    {
      "cell_type": "code",
      "source": [
        "tuple_1 = (1,2,3,4,5)\n",
        "print(tuple_1)\n",
        "type(tuple_1)"
      ],
      "metadata": {
        "colab": {
          "base_uri": "https://localhost:8080/"
        },
        "id": "-hHixRiCb7pm",
        "outputId": "8c53efb0-63e2-4be6-cacf-0b3b2aceea2f"
      },
      "execution_count": 17,
      "outputs": [
        {
          "output_type": "stream",
          "name": "stdout",
          "text": [
            "(1, 2, 3, 4, 5)\n"
          ]
        },
        {
          "output_type": "execute_result",
          "data": {
            "text/plain": [
              "tuple"
            ]
          },
          "metadata": {},
          "execution_count": 17
        }
      ]
    },
    {
      "cell_type": "code",
      "source": [
        "# tuple allows multiple data types\n",
        "tuple_2 = (2,3,1.8,'English',True)\n",
        "print(tuple_2)\n",
        "type(tuple_2)"
      ],
      "metadata": {
        "colab": {
          "base_uri": "https://localhost:8080/"
        },
        "id": "hXoASHkfcM_e",
        "outputId": "a830ce79-112d-4ade-b046-099a0865f166"
      },
      "execution_count": 19,
      "outputs": [
        {
          "output_type": "stream",
          "name": "stdout",
          "text": [
            "(2, 3, 1.8, 'English', True)\n"
          ]
        },
        {
          "output_type": "execute_result",
          "data": {
            "text/plain": [
              "tuple"
            ]
          },
          "metadata": {},
          "execution_count": 19
        }
      ]
    },
    {
      "cell_type": "code",
      "source": [
        "# converting a list to a tuple\n",
        "my_list = [2,3,4,5,6]\n",
        "print(my_list)\n",
        "my_tuple = tuple(my_list)\n",
        "print(my_tuple)"
      ],
      "metadata": {
        "colab": {
          "base_uri": "https://localhost:8080/"
        },
        "id": "q1caOBLlcitP",
        "outputId": "43ad0583-41e5-4228-dd49-69d91a746528"
      },
      "execution_count": 21,
      "outputs": [
        {
          "output_type": "stream",
          "name": "stdout",
          "text": [
            "[2, 3, 4, 5, 6]\n",
            "(2, 3, 4, 5, 6)\n"
          ]
        }
      ]
    },
    {
      "cell_type": "code",
      "source": [
        "print(my_tuple[0])\n",
        "print(my_tuple[1])"
      ],
      "metadata": {
        "colab": {
          "base_uri": "https://localhost:8080/"
        },
        "id": "OPOq4ofHcr-W",
        "outputId": "7b1506f4-07b2-4b16-d8b1-5506f9cba69f"
      },
      "execution_count": 23,
      "outputs": [
        {
          "output_type": "stream",
          "name": "stdout",
          "text": [
            "2\n",
            "3\n"
          ]
        }
      ]
    },
    {
      "cell_type": "markdown",
      "source": [
        "Tuples are immutible ---> Unchangeable (we cannot use append function)"
      ],
      "metadata": {
        "id": "ValxQeT2dPjp"
      }
    },
    {
      "cell_type": "code",
      "source": [
        "print(len(my_tuple))"
      ],
      "metadata": {
        "colab": {
          "base_uri": "https://localhost:8080/"
        },
        "id": "O7ZIDNQJdJIw",
        "outputId": "b08103fa-de64-4947-d90a-cd555775bacc"
      },
      "execution_count": 25,
      "outputs": [
        {
          "output_type": "stream",
          "name": "stdout",
          "text": [
            "5\n"
          ]
        }
      ]
    },
    {
      "cell_type": "markdown",
      "source": [
        "Sets"
      ],
      "metadata": {
        "id": "GuMRPC8Tdx72"
      }
    },
    {
      "cell_type": "code",
      "source": [
        "my_set = {1,2,3,4,5}\n",
        "print(my_set)\n",
        "type(my_set)\n",
        "# set object does not support indexing, therefore we cannot use, for example, my_set[0] to access the first term of the set"
      ],
      "metadata": {
        "colab": {
          "base_uri": "https://localhost:8080/"
        },
        "id": "2I0VZ0cvdeYn",
        "outputId": "0dfb7368-6d4e-4c64-d828-e0935650d51b"
      },
      "execution_count": 28,
      "outputs": [
        {
          "output_type": "stream",
          "name": "stdout",
          "text": [
            "{1, 2, 3, 4, 5}\n"
          ]
        },
        {
          "output_type": "execute_result",
          "data": {
            "text/plain": [
              "set"
            ]
          },
          "metadata": {},
          "execution_count": 28
        }
      ]
    },
    {
      "cell_type": "code",
      "source": [
        "# convert a list to a set\n",
        "list_5 = [4,5,6,7,8]\n",
        "x = set(list_5)\n",
        "print(x)"
      ],
      "metadata": {
        "colab": {
          "base_uri": "https://localhost:8080/"
        },
        "id": "u5GaqhRVd7fn",
        "outputId": "3f61456b-957d-4ea0-ec79-5e62fa5fa194"
      },
      "execution_count": 29,
      "outputs": [
        {
          "output_type": "stream",
          "name": "stdout",
          "text": [
            "{4, 5, 6, 7, 8}\n"
          ]
        }
      ]
    },
    {
      "cell_type": "code",
      "source": [
        "# set does not allow duplicate values\n",
        "set_3 = {1,2,3,4,5,1,2,3,4,5}\n",
        "print(set_3)"
      ],
      "metadata": {
        "colab": {
          "base_uri": "https://localhost:8080/"
        },
        "id": "6xZr0Q8tegOO",
        "outputId": "fc1e3ba1-bf55-4945-81b0-eebaf93aded7"
      },
      "execution_count": 30,
      "outputs": [
        {
          "output_type": "stream",
          "name": "stdout",
          "text": [
            "{1, 2, 3, 4, 5}\n"
          ]
        }
      ]
    },
    {
      "cell_type": "markdown",
      "source": [
        "Dictionary"
      ],
      "metadata": {
        "id": "YUXzEJspev5r"
      }
    },
    {
      "cell_type": "markdown",
      "source": [
        "Key-value pair"
      ],
      "metadata": {
        "id": "atp51mDIez2S"
      }
    },
    {
      "cell_type": "code",
      "source": [
        "my_dict = {'name':'Jack', 'age':26, 'country':'USA'}\n",
        "print(my_dict)\n",
        "type(my_dict)"
      ],
      "metadata": {
        "colab": {
          "base_uri": "https://localhost:8080/"
        },
        "id": "igZNR0EHerxH",
        "outputId": "05d7cb1e-3b5b-452c-b21c-85392199c402"
      },
      "execution_count": 31,
      "outputs": [
        {
          "output_type": "stream",
          "name": "stdout",
          "text": [
            "{'name': 'Jack', 'age': 26, 'country': 'USA'}\n"
          ]
        },
        {
          "output_type": "execute_result",
          "data": {
            "text/plain": [
              "dict"
            ]
          },
          "metadata": {},
          "execution_count": 31
        }
      ]
    },
    {
      "cell_type": "code",
      "source": [
        "print(my_dict['name'])\n",
        "print(my_dict['age'])\n",
        "print(my_dict['country'])"
      ],
      "metadata": {
        "colab": {
          "base_uri": "https://localhost:8080/"
        },
        "id": "8I0gfqmle5Fe",
        "outputId": "1b4179b3-270d-491a-e933-f15047b7f20e"
      },
      "execution_count": 33,
      "outputs": [
        {
          "output_type": "stream",
          "name": "stdout",
          "text": [
            "Jack\n",
            "26\n",
            "USA\n"
          ]
        }
      ]
    },
    {
      "cell_type": "code",
      "source": [
        "# dictionary does not allow duplicate values\n",
        "my_dict_2 = {'name':'John', 'age':26, 'country':'USA', 'name':'João', 'age':'24', 'country':'Portugal'}\n",
        "print(my_dict_2)"
      ],
      "metadata": {
        "colab": {
          "base_uri": "https://localhost:8080/"
        },
        "id": "Y7s0_hUQfTun",
        "outputId": "6ba7c7af-9cf6-47bc-9ede-7a8d168ada14"
      },
      "execution_count": 37,
      "outputs": [
        {
          "output_type": "stream",
          "name": "stdout",
          "text": [
            "{'name': 'João', 'age': '24', 'country': 'Portugal'}\n"
          ]
        }
      ]
    },
    {
      "cell_type": "markdown",
      "source": [
        "# Operators"
      ],
      "metadata": {
        "id": "sH4rzcH4gI2o"
      }
    },
    {
      "cell_type": "markdown",
      "source": [
        "\n",
        "\n",
        "1.   Arithmetic operators\n",
        "2.   Assignment operators\n",
        "3.   Comparison operators\n",
        "4.   Logical operators\n",
        "5.   Identity operators\n",
        "6.   Membership operators\n",
        "\n"
      ],
      "metadata": {
        "id": "pZn5DyQ_gOMj"
      }
    },
    {
      "cell_type": "markdown",
      "source": [
        "Arithmetic operators"
      ],
      "metadata": {
        "id": "g_UUfWVigs8J"
      }
    },
    {
      "cell_type": "code",
      "source": [
        "num_1 = 10\n",
        "num_2 = 5\n",
        "# addition\n",
        "sum = num_1 + num_2\n",
        "print('Sum of',num_1,'with',num_2,'is:', sum)\n",
        "# subtraction\n",
        "subtrac = num_1 - num_2\n",
        "print('Subtraction:', subtrac)\n",
        "# multiplication\n",
        "mult = num_1*num_2\n",
        "print('Product:', mult)\n",
        "# division\n",
        "div = num_1/num_2\n",
        "print('Quotient:', div)\n",
        "# exponent\n",
        "exp = num_1**num_2\n",
        "print('Exponent:', exp)\n",
        "# modulus\n",
        "modu = num_1%num_2\n",
        "print('Reminder:', modu)"
      ],
      "metadata": {
        "colab": {
          "base_uri": "https://localhost:8080/"
        },
        "id": "LaUBFAUJhJiM",
        "outputId": "0b051b99-17af-4184-ad3c-95c60017f8e7"
      },
      "execution_count": 47,
      "outputs": [
        {
          "output_type": "stream",
          "name": "stdout",
          "text": [
            "Sum of 10 with 5 is: 15\n",
            "Subtraction: 5\n",
            "Product: 50\n",
            "Quotient: 2.0\n",
            "Exponent: 100000\n",
            "Reminder: 0\n"
          ]
        }
      ]
    },
    {
      "cell_type": "markdown",
      "source": [
        "Assignment operators"
      ],
      "metadata": {
        "id": "CfiJvfk_iqPn"
      }
    },
    {
      "cell_type": "markdown",
      "source": [
        "+=\n",
        "\n",
        "-=\n",
        "\n",
        "*=\n",
        "\n",
        "/=\n",
        "\n",
        "**=\n",
        "\n",
        "%="
      ],
      "metadata": {
        "id": "oH39wM8JjCAJ"
      }
    },
    {
      "cell_type": "code",
      "source": [
        "a = 5\n",
        "print(a)"
      ],
      "metadata": {
        "colab": {
          "base_uri": "https://localhost:8080/"
        },
        "id": "-VVCF4uEhzIn",
        "outputId": "44e8dfab-0efe-40ea-c350-408ff60aad4e"
      },
      "execution_count": 48,
      "outputs": [
        {
          "output_type": "stream",
          "name": "stdout",
          "text": [
            "5\n"
          ]
        }
      ]
    },
    {
      "cell_type": "code",
      "source": [
        "a = 6\n",
        "a += 5\n",
        "print(a)"
      ],
      "metadata": {
        "colab": {
          "base_uri": "https://localhost:8080/"
        },
        "id": "5Fa45siGivKu",
        "outputId": "b963aa49-e1cf-4a54-b1b1-b5356a261fce"
      },
      "execution_count": 49,
      "outputs": [
        {
          "output_type": "stream",
          "name": "stdout",
          "text": [
            "11\n"
          ]
        }
      ]
    },
    {
      "cell_type": "code",
      "source": [
        "b = 6\n",
        "b -= 2\n",
        "print(b)"
      ],
      "metadata": {
        "colab": {
          "base_uri": "https://localhost:8080/"
        },
        "id": "gb_cZ72ji0PX",
        "outputId": "d3beaa02-fd52-48b4-8bca-2ac3b8ed40ca"
      },
      "execution_count": 50,
      "outputs": [
        {
          "output_type": "stream",
          "name": "stdout",
          "text": [
            "4\n"
          ]
        }
      ]
    },
    {
      "cell_type": "markdown",
      "source": [
        "Comparison operators"
      ],
      "metadata": {
        "id": "XNlg2lfN1WzJ"
      }
    },
    {
      "cell_type": "code",
      "source": [
        "a = 5\n",
        "b = 10\n",
        "print(a==b)\n",
        "print(a!=b)\n",
        "print(a>b)\n",
        "print(a<b)\n",
        "print(a>=b)\n",
        "print(a<=b)"
      ],
      "metadata": {
        "colab": {
          "base_uri": "https://localhost:8080/"
        },
        "id": "LABycXiq1ZJ1",
        "outputId": "7a1444ee-5ceb-4a56-dde8-21a061bd1133"
      },
      "execution_count": 51,
      "outputs": [
        {
          "output_type": "stream",
          "name": "stdout",
          "text": [
            "False\n",
            "True\n",
            "False\n",
            "True\n",
            "False\n",
            "True\n"
          ]
        }
      ]
    },
    {
      "cell_type": "markdown",
      "source": [
        "Logical operators"
      ],
      "metadata": {
        "id": "e4MkEs2r11E8"
      }
    },
    {
      "cell_type": "markdown",
      "source": [
        "and\n",
        "\n",
        "or\n",
        "\n",
        "not"
      ],
      "metadata": {
        "id": "D-AB5fce15wu"
      }
    },
    {
      "cell_type": "code",
      "source": [
        "a = 10\n",
        "print(a>20 and b>5)\n",
        "print(a>20 or b>5)\n",
        "print(not(a>20 and b>5))\n",
        "print(not(a<20 or a<11))"
      ],
      "metadata": {
        "colab": {
          "base_uri": "https://localhost:8080/"
        },
        "id": "O4ObsXd616ru",
        "outputId": "b43b2647-561a-488c-c2b0-5a911809d3bb"
      },
      "execution_count": 55,
      "outputs": [
        {
          "output_type": "stream",
          "name": "stdout",
          "text": [
            "False\n",
            "True\n",
            "True\n",
            "False\n"
          ]
        }
      ]
    },
    {
      "cell_type": "markdown",
      "source": [
        "Identity operators"
      ],
      "metadata": {
        "id": "NzBkCHA-2ha4"
      }
    },
    {
      "cell_type": "markdown",
      "source": [
        "is\n",
        "\n",
        "is not"
      ],
      "metadata": {
        "id": "PwfTcVfs2lpZ"
      }
    },
    {
      "cell_type": "code",
      "source": [
        "x = 5\n",
        "y = 10\n",
        "print(x is y)"
      ],
      "metadata": {
        "colab": {
          "base_uri": "https://localhost:8080/"
        },
        "id": "6J2jCafB2EE-",
        "outputId": "f9c045b2-c8d9-4f12-d782-c025e29385da"
      },
      "execution_count": 60,
      "outputs": [
        {
          "output_type": "stream",
          "name": "stdout",
          "text": [
            "False\n"
          ]
        }
      ]
    },
    {
      "cell_type": "code",
      "source": [
        "x = 5\n",
        "y = 5\n",
        "print(x is not y)"
      ],
      "metadata": {
        "colab": {
          "base_uri": "https://localhost:8080/"
        },
        "id": "1y1Yxjro2pk2",
        "outputId": "301dbe7a-cac1-4dc9-f937-8dd198124441"
      },
      "execution_count": 61,
      "outputs": [
        {
          "output_type": "stream",
          "name": "stdout",
          "text": [
            "False\n"
          ]
        }
      ]
    },
    {
      "cell_type": "code",
      "source": [
        "x = 5\n",
        "y = 10\n",
        "print(x is not y)"
      ],
      "metadata": {
        "colab": {
          "base_uri": "https://localhost:8080/"
        },
        "id": "ATK42SVh2sTe",
        "outputId": "72814011-8858-42c6-857c-ea8c140f8558"
      },
      "execution_count": 58,
      "outputs": [
        {
          "output_type": "stream",
          "name": "stdout",
          "text": [
            "True\n"
          ]
        }
      ]
    },
    {
      "cell_type": "markdown",
      "source": [
        "Membership operators"
      ],
      "metadata": {
        "id": "MKAYInQy28vm"
      }
    },
    {
      "cell_type": "markdown",
      "source": [
        "in\n",
        "\n",
        "not in"
      ],
      "metadata": {
        "id": "kmK9JYQc3GF7"
      }
    },
    {
      "cell_type": "code",
      "source": [
        "a = 5\n",
        "b = 10\n",
        "c = [1,2,3,4,5]\n",
        "print(a in c)\n",
        "print(b in c)\n",
        "print(a not in c)\n",
        "print(b not in c)"
      ],
      "metadata": {
        "colab": {
          "base_uri": "https://localhost:8080/"
        },
        "id": "s969KmQX2-J2",
        "outputId": "8f0791d4-245b-4a13-fc05-309025a205c4"
      },
      "execution_count": 64,
      "outputs": [
        {
          "output_type": "stream",
          "name": "stdout",
          "text": [
            "True\n",
            "False\n",
            "False\n",
            "True\n"
          ]
        }
      ]
    },
    {
      "cell_type": "markdown",
      "source": [
        "#If else statements"
      ],
      "metadata": {
        "id": "sWjrQsPj3lHf"
      }
    },
    {
      "cell_type": "markdown",
      "source": [
        "simple if else statement"
      ],
      "metadata": {
        "id": "7VhbLMmK3_NB"
      }
    },
    {
      "cell_type": "code",
      "source": [
        "a = 30\n",
        "b = 50\n",
        "\n",
        "if a>b:\n",
        "  print('a is the greatest number')\n",
        "else:\n",
        "  print('b is the greatest number')"
      ],
      "metadata": {
        "colab": {
          "base_uri": "https://localhost:8080/"
        },
        "id": "8t8RYIpc3rnN",
        "outputId": "7400b0f0-439d-498c-8141-1e78c23bdf2f"
      },
      "execution_count": 82,
      "outputs": [
        {
          "output_type": "stream",
          "name": "stdout",
          "text": [
            "b is the greatest number\n"
          ]
        }
      ]
    },
    {
      "cell_type": "code",
      "source": [
        "a = int(input('Enter the first number: '))\n",
        "b = int(input('Enter the second number: '))\n",
        "\n",
        "if a>b:\n",
        "  print('First number is the greatest')\n",
        "else:\n",
        "  print('Second number is the greatest')"
      ],
      "metadata": {
        "colab": {
          "base_uri": "https://localhost:8080/"
        },
        "id": "u7KB75JK4Omm",
        "outputId": "3a18f02d-9d73-44ae-e1a8-2af957de7cf8"
      },
      "execution_count": 85,
      "outputs": [
        {
          "output_type": "stream",
          "name": "stdout",
          "text": [
            "Enter the first number: 10\n",
            "Enter the second number: 16\n",
            "Second number is the greatest\n"
          ]
        }
      ]
    },
    {
      "cell_type": "markdown",
      "source": [
        "if elif else statement"
      ],
      "metadata": {
        "id": "zXlAmvsb4tg4"
      }
    },
    {
      "cell_type": "code",
      "source": [
        "a = int(input('Enter the first number: '))\n",
        "b = int(input('Enter the second number:'))\n",
        "c = int(input('Enter the third number: '))\n",
        "\n",
        "if (b<a>c):\n",
        "  print(a,'is the greatest number')\n",
        "elif (a<b>c):\n",
        "  print(b,'is the greatest number')\n",
        "else:\n",
        "  print(c,'is the greatest number')"
      ],
      "metadata": {
        "colab": {
          "base_uri": "https://localhost:8080/"
        },
        "id": "nQg7Yzmt46VG",
        "outputId": "2755cdf2-0b38-4d90-ff2f-76cf86bd0b62"
      },
      "execution_count": 88,
      "outputs": [
        {
          "output_type": "stream",
          "name": "stdout",
          "text": [
            "Enter the first number: 2\n",
            "Enter the second number:5\n",
            "Enter the third number: 3\n",
            "5 is the greatest number\n"
          ]
        }
      ]
    },
    {
      "cell_type": "markdown",
      "source": [
        "nested if statement"
      ],
      "metadata": {
        "id": "7CPeaXXT5ibW"
      }
    },
    {
      "cell_type": "code",
      "source": [
        "a = int(input('Enter the first number: '))\n",
        "b = int(input('Enter the second number:'))\n",
        "c = int(input('Enter the third number: '))\n",
        "\n",
        "if (a>b):\n",
        "  if (a>c):\n",
        "    print(a, 'is the greatest number')\n",
        "  else:\n",
        "    print(c, 'is the greatest number')\n",
        "else:\n",
        "  if (b>c):\n",
        "    print(b, 'is the greatest number')\n",
        "  else:\n",
        "    print(c, 'is the greatest number')"
      ],
      "metadata": {
        "colab": {
          "base_uri": "https://localhost:8080/"
        },
        "id": "i_Rbrrnu5Qzu",
        "outputId": "dc46e838-8259-42db-96d3-ff4afd47fa60"
      },
      "execution_count": 90,
      "outputs": [
        {
          "output_type": "stream",
          "name": "stdout",
          "text": [
            "Enter the first number: 20\n",
            "Enter the second number:30\n",
            "Enter the third number: 15\n",
            "30 is the greatest number\n"
          ]
        }
      ]
    },
    {
      "cell_type": "markdown",
      "source": [
        "#Loops"
      ],
      "metadata": {
        "id": "1HntBXzb6d0k"
      }
    },
    {
      "cell_type": "markdown",
      "source": [
        "For loop"
      ],
      "metadata": {
        "id": "gTJZHzGK6jYY"
      }
    },
    {
      "cell_type": "code",
      "source": [
        "# if we don't use \"int\" before, the input will result in a string\n",
        "laptop1 = int(input('Enter the price of the first Laptop: '))\n",
        "laptop2 = int(input('Enter the price of the second Laptop: '))\n",
        "laptop3 = int(input('Enter the price of the third Laptop: '))\n",
        "laptop4 = int(input('Enter the price of the fourth Laptop: '))\n",
        "laptop5 = int(input('Enter the price of the fifth Laptop: '))"
      ],
      "metadata": {
        "colab": {
          "base_uri": "https://localhost:8080/"
        },
        "id": "Hro-m0Gx6gT2",
        "outputId": "dc280341-0233-4d4b-8a5c-6d797db32ce6"
      },
      "execution_count": 101,
      "outputs": [
        {
          "name": "stdout",
          "output_type": "stream",
          "text": [
            "Enter the price of the first Laptop: 10000\n",
            "Enter the price of the second Laptop: 20000\n",
            "Enter the price of the third Laptop: 30000\n",
            "Enter the price of the fourth Laptop: 40000\n",
            "Enter the price of the fifth Laptop: 50000\n"
          ]
        }
      ]
    },
    {
      "cell_type": "code",
      "source": [
        "a = int(input('Enter the number of Laptops: '))\n",
        "\n",
        "if a == 0:\n",
        "  print('Not a valid number of Laptops')\n",
        "else:\n",
        "  for i in range(a):\n",
        "    laptop_price = int(input(f'Enter the price of the Laptop number {i+1}: '))\n"
      ],
      "metadata": {
        "colab": {
          "base_uri": "https://localhost:8080/"
        },
        "id": "EH4IoOey7w2t",
        "outputId": "df54984d-eb1e-437a-89a0-81a6833f0b85"
      },
      "execution_count": 5,
      "outputs": [
        {
          "name": "stdout",
          "output_type": "stream",
          "text": [
            "Enter the number of Laptops: 2\n",
            "Enter the price of the Laptop number 1: 1000\n",
            "Enter the price of the Laptop number 2: 2000\n"
          ]
        }
      ]
    },
    {
      "cell_type": "code",
      "source": [
        "numbers = [50,100,150,200]\n",
        "print(numbers[0])\n",
        "print(numbers[1])\n",
        "print(numbers[2])\n",
        "print(numbers[3])"
      ],
      "metadata": {
        "colab": {
          "base_uri": "https://localhost:8080/"
        },
        "id": "nxgMy7DL8kMG",
        "outputId": "e97c608b-2ab3-41e5-f4d5-bc1e126e76f6"
      },
      "execution_count": 6,
      "outputs": [
        {
          "output_type": "stream",
          "name": "stdout",
          "text": [
            "50\n",
            "100\n",
            "150\n",
            "200\n"
          ]
        }
      ]
    },
    {
      "cell_type": "code",
      "source": [
        "import random as rand"
      ],
      "metadata": {
        "id": "I84DPd1u-d4u"
      },
      "execution_count": 7,
      "outputs": []
    },
    {
      "cell_type": "code",
      "source": [
        "a = int(input('Enter the number of elements inside the list: '))\n",
        "\n",
        "list_1 = []\n",
        "\n",
        "for i in range(a):\n",
        "  list_1.append(rand.randint(1,100))\n",
        "\n",
        "print(list_1)\n",
        "\n",
        "for i in list_1:\n",
        "  print(i)"
      ],
      "metadata": {
        "colab": {
          "base_uri": "https://localhost:8080/"
        },
        "id": "B5B3KmsO-jdd",
        "outputId": "6206eb7e-da4a-4bc6-d1c5-9cc7b34684da"
      },
      "execution_count": 18,
      "outputs": [
        {
          "output_type": "stream",
          "name": "stdout",
          "text": [
            "Enter the number of elements inside the list: 5\n",
            "[24, 22, 15, 97, 24]\n",
            "24\n",
            "22\n",
            "15\n",
            "97\n",
            "24\n"
          ]
        }
      ]
    },
    {
      "cell_type": "markdown",
      "source": [
        "While loop"
      ],
      "metadata": {
        "id": "KoWoJxSyAUCc"
      }
    },
    {
      "cell_type": "markdown",
      "source": [
        "while condition:\n",
        "\n",
        "    statement"
      ],
      "metadata": {
        "id": "O8Cs4YkeAnJS"
      }
    },
    {
      "cell_type": "code",
      "source": [
        "i = 0\n",
        "\n",
        "while i<10:\n",
        "  print(i)\n",
        "  i += 1"
      ],
      "metadata": {
        "colab": {
          "base_uri": "https://localhost:8080/"
        },
        "id": "omRt6fKy_BnW",
        "outputId": "3e02c0f5-2260-43a8-f983-2ad86df802a6"
      },
      "execution_count": 19,
      "outputs": [
        {
          "output_type": "stream",
          "name": "stdout",
          "text": [
            "0\n",
            "1\n",
            "2\n",
            "3\n",
            "4\n",
            "5\n",
            "6\n",
            "7\n",
            "8\n",
            "9\n"
          ]
        }
      ]
    },
    {
      "cell_type": "code",
      "source": [
        "i = 5\n",
        "\n",
        "while i<3:\n",
        "  print(i)\n",
        "  i += 1"
      ],
      "metadata": {
        "id": "UzmeYVByAykW"
      },
      "execution_count": 20,
      "outputs": []
    },
    {
      "cell_type": "markdown",
      "source": [
        "#Functions"
      ],
      "metadata": {
        "id": "pZ5EY8JIBfnU"
      }
    },
    {
      "cell_type": "markdown",
      "source": [
        "A function is a block of code that can be reused in a program"
      ],
      "metadata": {
        "id": "CkvixbbKBi22"
      }
    },
    {
      "cell_type": "markdown",
      "source": [
        "Factorial of a number"
      ],
      "metadata": {
        "id": "D_qhKeHiCf3e"
      }
    },
    {
      "cell_type": "code",
      "source": [
        "number = int(input('Enter a nunber to find its factorial: '))\n",
        "factorial = 1\n",
        "if number == 0:\n",
        "  print(' The factorial of 0 is 1')\n",
        "else:\n",
        "  for i in range(1,number+1):  # range(1,6) ----> 1,2,3,4,5\n",
        "    factorial = factorial*i\n",
        "\n",
        "print('The factorial of',number,'is',factorial)"
      ],
      "metadata": {
        "colab": {
          "base_uri": "https://localhost:8080/"
        },
        "id": "juJGoMzxBhC-",
        "outputId": "c1432afa-a496-40f3-85dd-b218c596e4f4"
      },
      "execution_count": 26,
      "outputs": [
        {
          "output_type": "stream",
          "name": "stdout",
          "text": [
            "Enter a nunber to find its factorial: 5\n",
            "The factorial of 5 is 120\n"
          ]
        }
      ]
    },
    {
      "cell_type": "markdown",
      "source": [
        "Factorial function"
      ],
      "metadata": {
        "id": "m9Xa3MBxENNF"
      }
    },
    {
      "cell_type": "code",
      "source": [
        "def factorial_value(n):\n",
        "  if n == 0 or n == 1:\n",
        "    return 1\n",
        "  else:\n",
        "    return n*factorial_value(n-1)\n",
        "\n",
        "def print_factorial(n):\n",
        "  print('The factorial of', n,'is', factorial_value(n))\n",
        "\n",
        "print_factorial(10)"
      ],
      "metadata": {
        "colab": {
          "base_uri": "https://localhost:8080/"
        },
        "id": "JTBMmEUHEuxd",
        "outputId": "8c40eabd-d823-4781-bfc5-e388eacaefde"
      },
      "execution_count": 45,
      "outputs": [
        {
          "output_type": "stream",
          "name": "stdout",
          "text": [
            "The factorial of 10 is 3628800\n"
          ]
        }
      ]
    }
  ]
}