{
  "nbformat": 4,
  "nbformat_minor": 0,
  "metadata": {
    "colab": {
      "provenance": [],
      "authorship_tag": "ABX9TyO5iGdcC5ZC0Qg7Brm4b2KN"
    },
    "kernelspec": {
      "name": "python3",
      "display_name": "Python 3"
    },
    "language_info": {
      "name": "python"
    }
  },
  "cells": [
    {
      "cell_type": "markdown",
      "source": [
        "#Print function"
      ],
      "metadata": {
        "id": "KTBjC9_Fo389"
      }
    },
    {
      "cell_type": "code",
      "execution_count": 7,
      "metadata": {
        "colab": {
          "base_uri": "https://localhost:8080/"
        },
        "id": "Xtp6MgjXoNXM",
        "outputId": "e88e59a3-545e-47f1-9793-d110fda5ee97"
      },
      "outputs": [
        {
          "output_type": "stream",
          "name": "stdout",
          "text": [
            "Machine Learning\n"
          ]
        }
      ],
      "source": [
        "print(\"Machine Learning\")"
      ]
    },
    {
      "cell_type": "code",
      "source": [
        "print(\"Machine Learning\" + \" Projects\")"
      ],
      "metadata": {
        "colab": {
          "base_uri": "https://localhost:8080/"
        },
        "id": "HQ7LCsNhonM1",
        "outputId": "97306476-3da7-4fdf-93a1-916dd2f61bdf"
      },
      "execution_count": 8,
      "outputs": [
        {
          "output_type": "stream",
          "name": "stdout",
          "text": [
            "Machine Learning Projects\n"
          ]
        }
      ]
    },
    {
      "cell_type": "code",
      "source": [
        "print(8)"
      ],
      "metadata": {
        "colab": {
          "base_uri": "https://localhost:8080/"
        },
        "id": "fTdm9xM-orDj",
        "outputId": "8b35e61a-27f6-431f-cff2-01379daa1b7d"
      },
      "execution_count": 9,
      "outputs": [
        {
          "output_type": "stream",
          "name": "stdout",
          "text": [
            "8\n"
          ]
        }
      ]
    },
    {
      "cell_type": "code",
      "source": [
        "print(8+3)"
      ],
      "metadata": {
        "colab": {
          "base_uri": "https://localhost:8080/"
        },
        "id": "InMaTBbmowsT",
        "outputId": "f91d43fb-8a68-4ffe-9287-55f6c32e3c99"
      },
      "execution_count": 10,
      "outputs": [
        {
          "output_type": "stream",
          "name": "stdout",
          "text": [
            "11\n"
          ]
        }
      ]
    },
    {
      "cell_type": "markdown",
      "source": [
        "#Basic data types:\n",
        "\n",
        "\n",
        "\n",
        "1.   Integer\n",
        "2.   Floating Point\n",
        "3.   Complex\n",
        "4.   Boolean\n",
        "5.   String\n",
        "\n",
        "\n",
        "\n",
        "\n"
      ],
      "metadata": {
        "id": "6UyjLuAYpL3T"
      }
    },
    {
      "cell_type": "markdown",
      "source": [
        "Integer"
      ],
      "metadata": {
        "id": "X2uoFUp4wtRj"
      }
    },
    {
      "cell_type": "code",
      "source": [
        "a = 8\n",
        "print(a)\n",
        "type(a)"
      ],
      "metadata": {
        "colab": {
          "base_uri": "https://localhost:8080/"
        },
        "id": "Fs_ZH3IEpPjU",
        "outputId": "49a2e3d1-363d-45e9-b7a8-d2c9a3a96b0e"
      },
      "execution_count": 30,
      "outputs": [
        {
          "output_type": "stream",
          "name": "stdout",
          "text": [
            "8\n"
          ]
        },
        {
          "output_type": "execute_result",
          "data": {
            "text/plain": [
              "int"
            ]
          },
          "metadata": {},
          "execution_count": 30
        }
      ]
    },
    {
      "cell_type": "markdown",
      "source": [
        "Floating Point"
      ],
      "metadata": {
        "id": "OZ73B9nzwvJQ"
      }
    },
    {
      "cell_type": "code",
      "source": [
        "b = 2.3\n",
        "print(b)\n",
        "type(b)"
      ],
      "metadata": {
        "colab": {
          "base_uri": "https://localhost:8080/"
        },
        "id": "The6_zeHpjF9",
        "outputId": "47a01d9c-d069-4323-85ac-21ded5f6b742"
      },
      "execution_count": 31,
      "outputs": [
        {
          "output_type": "stream",
          "name": "stdout",
          "text": [
            "2.3\n"
          ]
        },
        {
          "output_type": "execute_result",
          "data": {
            "text/plain": [
              "float"
            ]
          },
          "metadata": {},
          "execution_count": 31
        }
      ]
    },
    {
      "cell_type": "markdown",
      "source": [
        "Complex"
      ],
      "metadata": {
        "id": "376VQ2oRwxBQ"
      }
    },
    {
      "cell_type": "code",
      "source": [
        "c = 1+3j\n",
        "print(c)\n",
        "type(c)"
      ],
      "metadata": {
        "colab": {
          "base_uri": "https://localhost:8080/"
        },
        "id": "k3BLsHN8t_YT",
        "outputId": "84d39897-8acd-45a7-c72d-de171b48153c"
      },
      "execution_count": 40,
      "outputs": [
        {
          "output_type": "stream",
          "name": "stdout",
          "text": [
            "(1+3j)\n"
          ]
        },
        {
          "output_type": "execute_result",
          "data": {
            "text/plain": [
              "complex"
            ]
          },
          "metadata": {},
          "execution_count": 40
        }
      ]
    },
    {
      "cell_type": "markdown",
      "source": [
        "Conversion from integer to floating point"
      ],
      "metadata": {
        "id": "whszFLEDwzSg"
      }
    },
    {
      "cell_type": "code",
      "source": [
        "x = 10\n",
        "print(x)\n",
        "type(x)"
      ],
      "metadata": {
        "colab": {
          "base_uri": "https://localhost:8080/"
        },
        "id": "4QkLyMB0uVVx",
        "outputId": "6233ce07-4ab1-456c-d57f-4c7208423605"
      },
      "execution_count": 32,
      "outputs": [
        {
          "output_type": "stream",
          "name": "stdout",
          "text": [
            "10\n"
          ]
        },
        {
          "output_type": "execute_result",
          "data": {
            "text/plain": [
              "int"
            ]
          },
          "metadata": {},
          "execution_count": 32
        }
      ]
    },
    {
      "cell_type": "code",
      "source": [
        "y = float(x)\n",
        "print(y)\n",
        "type(y)"
      ],
      "metadata": {
        "colab": {
          "base_uri": "https://localhost:8080/"
        },
        "id": "Qjn8aZLsutOj",
        "outputId": "086c0ab3-2fd4-4c52-bfd1-0450309a8c7b"
      },
      "execution_count": 33,
      "outputs": [
        {
          "output_type": "stream",
          "name": "stdout",
          "text": [
            "10.0\n"
          ]
        },
        {
          "output_type": "execute_result",
          "data": {
            "text/plain": [
              "float"
            ]
          },
          "metadata": {},
          "execution_count": 33
        }
      ]
    },
    {
      "cell_type": "markdown",
      "source": [
        "Conversion from floating point to integer"
      ],
      "metadata": {
        "id": "_wYSCd9Zw3ZJ"
      }
    },
    {
      "cell_type": "code",
      "source": [
        "x = 5.88\n",
        "print(x)\n",
        "type(x)"
      ],
      "metadata": {
        "colab": {
          "base_uri": "https://localhost:8080/"
        },
        "id": "_2_BigtUuxLy",
        "outputId": "d7b574ac-c2ae-4080-da17-5473f98e3042"
      },
      "execution_count": 34,
      "outputs": [
        {
          "output_type": "stream",
          "name": "stdout",
          "text": [
            "5.88\n"
          ]
        },
        {
          "output_type": "execute_result",
          "data": {
            "text/plain": [
              "float"
            ]
          },
          "metadata": {},
          "execution_count": 34
        }
      ]
    },
    {
      "cell_type": "code",
      "source": [
        "y = int(x)\n",
        "print(y)\n",
        "type(y)"
      ],
      "metadata": {
        "colab": {
          "base_uri": "https://localhost:8080/"
        },
        "id": "655I0MEEuxgD",
        "outputId": "55d17c3b-ac75-437e-ca68-62a468f0f4fc"
      },
      "execution_count": 36,
      "outputs": [
        {
          "output_type": "stream",
          "name": "stdout",
          "text": [
            "5\n"
          ]
        },
        {
          "output_type": "execute_result",
          "data": {
            "text/plain": [
              "int"
            ]
          },
          "metadata": {},
          "execution_count": 36
        }
      ]
    },
    {
      "cell_type": "markdown",
      "source": [
        "Boolean\n",
        "\n",
        "\n",
        "1.   True\n",
        "2.   False\n",
        "\n"
      ],
      "metadata": {
        "id": "Od8LXwK3vNr7"
      }
    },
    {
      "cell_type": "code",
      "source": [
        "a = True\n",
        "print(a)\n",
        "type(a)"
      ],
      "metadata": {
        "colab": {
          "base_uri": "https://localhost:8080/"
        },
        "id": "vFh3dbX9vSO_",
        "outputId": "56f0825d-cf32-4ac8-b9e1-865ec251518a"
      },
      "execution_count": 37,
      "outputs": [
        {
          "output_type": "stream",
          "name": "stdout",
          "text": [
            "True\n"
          ]
        },
        {
          "output_type": "execute_result",
          "data": {
            "text/plain": [
              "bool"
            ]
          },
          "metadata": {},
          "execution_count": 37
        }
      ]
    },
    {
      "cell_type": "code",
      "source": [
        "b = False\n",
        "print(b)\n",
        "type(b)"
      ],
      "metadata": {
        "colab": {
          "base_uri": "https://localhost:8080/"
        },
        "id": "ERTz4ia8vSH2",
        "outputId": "01dcb53f-6f7f-45ce-9b01-0fd0a4b0ec9b"
      },
      "execution_count": 38,
      "outputs": [
        {
          "output_type": "stream",
          "name": "stdout",
          "text": [
            "False\n"
          ]
        },
        {
          "output_type": "execute_result",
          "data": {
            "text/plain": [
              "bool"
            ]
          },
          "metadata": {},
          "execution_count": 38
        }
      ]
    },
    {
      "cell_type": "code",
      "source": [
        "a = 7 < 3\n",
        "print(a)\n",
        "type(a)"
      ],
      "metadata": {
        "colab": {
          "base_uri": "https://localhost:8080/"
        },
        "id": "92pI-3MEvfcY",
        "outputId": "0fae362c-9509-46ca-84e9-f44f1da31f6f"
      },
      "execution_count": 39,
      "outputs": [
        {
          "output_type": "stream",
          "name": "stdout",
          "text": [
            "False\n"
          ]
        },
        {
          "output_type": "execute_result",
          "data": {
            "text/plain": [
              "bool"
            ]
          },
          "metadata": {},
          "execution_count": 39
        }
      ]
    },
    {
      "cell_type": "code",
      "source": [
        "a = 7 > 3\n",
        "print(a)\n",
        "type(a)"
      ],
      "metadata": {
        "colab": {
          "base_uri": "https://localhost:8080/"
        },
        "id": "9BNrSCfDvfYh",
        "outputId": "1f8a85d3-392b-468a-a5bb-25e1e286539c"
      },
      "execution_count": 41,
      "outputs": [
        {
          "output_type": "stream",
          "name": "stdout",
          "text": [
            "True\n"
          ]
        },
        {
          "output_type": "execute_result",
          "data": {
            "text/plain": [
              "bool"
            ]
          },
          "metadata": {},
          "execution_count": 41
        }
      ]
    },
    {
      "cell_type": "markdown",
      "source": [
        "String"
      ],
      "metadata": {
        "id": "u2XwikBRw83v"
      }
    },
    {
      "cell_type": "code",
      "source": [
        "my_string = \"Machine Learning\"\n",
        "print(my_string)\n",
        "type(my_string)"
      ],
      "metadata": {
        "colab": {
          "base_uri": "https://localhost:8080/"
        },
        "id": "-wxUnoOPpk2j",
        "outputId": "25525ee2-3df5-455f-fa61-6eedb1fbae6b"
      },
      "execution_count": 42,
      "outputs": [
        {
          "output_type": "stream",
          "name": "stdout",
          "text": [
            "Machine Learning\n"
          ]
        },
        {
          "output_type": "execute_result",
          "data": {
            "text/plain": [
              "str"
            ]
          },
          "metadata": {},
          "execution_count": 42
        }
      ]
    },
    {
      "cell_type": "code",
      "source": [
        "print(\"Hello\"*5)"
      ],
      "metadata": {
        "colab": {
          "base_uri": "https://localhost:8080/"
        },
        "id": "g6Shlbv1weUq",
        "outputId": "c46377f0-bad3-4748-be81-3c1adda59977"
      },
      "execution_count": 43,
      "outputs": [
        {
          "output_type": "stream",
          "name": "stdout",
          "text": [
            "HelloHelloHelloHelloHello\n"
          ]
        }
      ]
    },
    {
      "cell_type": "markdown",
      "source": [
        "Slicing"
      ],
      "metadata": {
        "id": "x-PtFn5uxDIx"
      }
    },
    {
      "cell_type": "code",
      "source": [
        "my_string = \"Programming\""
      ],
      "metadata": {
        "id": "yvDXmsYsxFMs"
      },
      "execution_count": 44,
      "outputs": []
    },
    {
      "cell_type": "code",
      "source": [
        "print(my_string[1:5])"
      ],
      "metadata": {
        "colab": {
          "base_uri": "https://localhost:8080/"
        },
        "id": "F9gKIHxhxLfB",
        "outputId": "a166f133-411a-4e04-a776-0816d43e729f"
      },
      "execution_count": 51,
      "outputs": [
        {
          "output_type": "stream",
          "name": "stdout",
          "text": [
            "rogr\n"
          ]
        }
      ]
    },
    {
      "cell_type": "code",
      "source": [
        "print(my_string[0:10:2])"
      ],
      "metadata": {
        "colab": {
          "base_uri": "https://localhost:8080/"
        },
        "id": "G12TmETqxLcZ",
        "outputId": "9cfc7dd0-b59d-4fac-ce60-7f43e3103976"
      },
      "execution_count": 53,
      "outputs": [
        {
          "output_type": "stream",
          "name": "stdout",
          "text": [
            "Pormi\n"
          ]
        }
      ]
    },
    {
      "cell_type": "markdown",
      "source": [
        "String concatenation"
      ],
      "metadata": {
        "id": "DhqKHW0Ix_s6"
      }
    },
    {
      "cell_type": "code",
      "source": [
        "word_1 = \"Machine \"\n",
        "word_2 = \"Learning\"\n",
        "print(word_1 + word_2)"
      ],
      "metadata": {
        "colab": {
          "base_uri": "https://localhost:8080/"
        },
        "id": "Uz0pQxMexLZs",
        "outputId": "9dadcdc2-af5e-4f59-a692-f6631d10c998"
      },
      "execution_count": 57,
      "outputs": [
        {
          "output_type": "stream",
          "name": "stdout",
          "text": [
            "Machine Learning\n"
          ]
        }
      ]
    },
    {
      "cell_type": "markdown",
      "source": [
        "#Constants and variables"
      ],
      "metadata": {
        "id": "EUOc3Eiopxbo"
      }
    },
    {
      "cell_type": "code",
      "source": [
        "superhero = \"Iron Man\"\n",
        "print(superhero)"
      ],
      "metadata": {
        "colab": {
          "base_uri": "https://localhost:8080/"
        },
        "id": "W9De2FAgp0qr",
        "outputId": "aaa6bb32-1320-41a6-e4eb-93ad459a9508"
      },
      "execution_count": 15,
      "outputs": [
        {
          "output_type": "stream",
          "name": "stdout",
          "text": [
            "Iron Man\n"
          ]
        }
      ]
    },
    {
      "cell_type": "code",
      "source": [
        "superhero = \"Captain America\"\n",
        "print(superhero)"
      ],
      "metadata": {
        "colab": {
          "base_uri": "https://localhost:8080/"
        },
        "id": "s2pCFvO0qDYE",
        "outputId": "aa9de3e5-7160-48bb-85af-e0c9ec55e35b"
      },
      "execution_count": 16,
      "outputs": [
        {
          "output_type": "stream",
          "name": "stdout",
          "text": [
            "Captain America\n"
          ]
        }
      ]
    },
    {
      "cell_type": "code",
      "source": [
        "hero1, hero2, hero3 = \"Iron Man\", \"Captain America\", \"Thor\"\n",
        "print(hero1)\n",
        "print(hero2)\n",
        "print(hero3)"
      ],
      "metadata": {
        "colab": {
          "base_uri": "https://localhost:8080/"
        },
        "id": "wpR1TXTSqkO0",
        "outputId": "7eb41171-264e-4487-dab8-de0a4d0fcc22"
      },
      "execution_count": 17,
      "outputs": [
        {
          "output_type": "stream",
          "name": "stdout",
          "text": [
            "Iron Man\n",
            "Captain America\n",
            "Thor\n"
          ]
        }
      ]
    },
    {
      "cell_type": "code",
      "source": [
        "x = y = z = 23\n",
        "print(x)\n",
        "print(y)\n",
        "print(z)"
      ],
      "metadata": {
        "colab": {
          "base_uri": "https://localhost:8080/"
        },
        "id": "q3CRC0DJqztD",
        "outputId": "6379d602-91eb-4b26-859c-ceeadf15a312"
      },
      "execution_count": 18,
      "outputs": [
        {
          "output_type": "stream",
          "name": "stdout",
          "text": [
            "23\n",
            "23\n",
            "23\n"
          ]
        }
      ]
    },
    {
      "cell_type": "markdown",
      "source": [
        "#Input function"
      ],
      "metadata": {
        "id": "YwyN33HSrh3I"
      }
    },
    {
      "cell_type": "code",
      "source": [
        "number_1 = int(input(\"Enter the first number: \"))\n",
        "number_2 = int(input(\"Enter the second number: \"))\n",
        "\n",
        "sum = number_1 + number_2\n",
        "print(sum)"
      ],
      "metadata": {
        "colab": {
          "base_uri": "https://localhost:8080/"
        },
        "id": "1ast3hmarjVb",
        "outputId": "4d781ae8-81c0-48fb-df3e-d49289221bc0"
      },
      "execution_count": 58,
      "outputs": [
        {
          "output_type": "stream",
          "name": "stdout",
          "text": [
            "Enter the first number: 23\n",
            "Enter the second number: 23\n",
            "46\n"
          ]
        }
      ]
    },
    {
      "cell_type": "code",
      "source": [
        "num = 5\n",
        "print(float(num))"
      ],
      "metadata": {
        "colab": {
          "base_uri": "https://localhost:8080/"
        },
        "id": "_8p4xyLfry9b",
        "outputId": "02a1fdfa-2e24-44bd-9c31-b285082427be"
      },
      "execution_count": 59,
      "outputs": [
        {
          "output_type": "stream",
          "name": "stdout",
          "text": [
            "5.0\n"
          ]
        }
      ]
    }
  ]
}